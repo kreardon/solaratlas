{
 "cells": [
  {
   "cell_type": "code",
   "execution_count": 1,
   "metadata": {},
   "outputs": [],
   "source": [
    "import atlastools"
   ]
  },
  {
   "cell_type": "code",
   "execution_count": 2,
   "metadata": {},
   "outputs": [],
   "source": [
    "import os"
   ]
  },
  {
   "cell_type": "code",
   "execution_count": 3,
   "metadata": {},
   "outputs": [],
   "source": [
    "os.chdir('atlasfiles/')"
   ]
  },
  {
   "cell_type": "code",
   "execution_count": 5,
   "metadata": {},
   "outputs": [],
   "source": [
    "from astropy.io import fits"
   ]
  },
  {
   "cell_type": "code",
   "execution_count": 6,
   "metadata": {},
   "outputs": [],
   "source": [
    "filenames_list = ['kitt.peak.quietsun.1-5micron.atlas.wavelnth.fits.gz', 'kitt.peak.quietsun.350-740nm.1998.v1.fits.gz', 'kitt.peak.umbra.1-2.5micron.atlas.v1.fits.gz', 'neckel.hamburg.atlas.wvscl_smooth.bintab.v1.fits.gz', 'stenflo.SS3.5mA.bintab.v1.fits.gz']"
   ]
  },
  {
   "cell_type": "code",
   "execution_count": 7,
   "metadata": {},
   "outputs": [
    {
     "data": {
      "text/plain": [
       "[<atlastools.atlas_file_content at 0x1d71987efc8>,\n",
       " <atlastools.atlas_file_content at 0x1d719830208>,\n",
       " <atlastools.atlas_file_content at 0x1d719e18e08>,\n",
       " <atlastools.atlas_file_content at 0x1d71959cd08>,\n",
       " <atlastools.atlas_file_content at 0x1d719c483c8>]"
      ]
     },
     "execution_count": 7,
     "metadata": {},
     "output_type": "execute_result"
    }
   ],
   "source": [
    "fcm_list = []\n",
    "for i in filenames_list:\n",
    "    fcm_list.append(atlastools.filecontent_map(i))\n",
    "fcm_list"
   ]
  },
  {
   "cell_type": "code",
   "execution_count": 8,
   "metadata": {},
   "outputs": [
    {
     "data": {
      "text/plain": [
       "{'SIMPLE': True,\n",
       " 'BITPIX': 8,\n",
       " 'NAXIS': 2,\n",
       " 'EXTEND': True,\n",
       " 'ATL_ADS1': 'https://ui.adsabs.harvard.edu/abs/1991aass.book.....L/abstract',\n",
       " 'LONGSTRN': 'OGIP 1.0',\n",
       " 'ATL_ALT': 2096.0,\n",
       " 'ATL_LONG': 111.595,\n",
       " 'ATL_LAT': 31.9583,\n",
       " 'ATL_INST': 'FTS',\n",
       " 'ATL_OBS': 'Kitt Peak Observatory',\n",
       " 'ATL_MISS': -1.0,\n",
       " 'ATL_WSOL': True,\n",
       " 'FILEVER': '0.9',\n",
       " 'ATL_RAD': 0.0,\n",
       " 'ATL_MU': 1.0,\n",
       " 'ATL_SOUR': 'Kitt Peak/FTS IR Quiet Sun 1991',\n",
       " 'ATLRSLTN': '300000',\n",
       " 'ATL_SAMP': 'uniform',\n",
       " 'ATLSPCOL': 'Local Intensity   1',\n",
       " 'ATLWVCOL': 'Wavelength Scale   1',\n",
       " 'WAVENAME': 'nm',\n",
       " 'WAVEUNIT': -9,\n",
       " 'WAVEMAX': 54097.6602788,\n",
       " 'WAVEMIN': 11105.6034291,\n",
       " 'WAVEREF': 'air',\n",
       " 'CUNIT1': 'nm',\n",
       " 'CMPNT_01': 'Wavelength Scale',\n",
       " 'CMPNT_02': 'Solar Intensity with Telluric Absorption',\n",
       " 'CMPNT_03': 'Solar Intensity without Telluric Absorption',\n",
       " 'CMPNT_04': 'Derived Telluric Absorption',\n",
       " 'CMPNT_05': 'Wavenumber Scale',\n",
       " 'CTYPE1': 'AWAV',\n",
       " 'OBJECT': 'Sun',\n",
       " 'COMMENT':  This FITS file may contain long string keyword values that are\n",
       "  continued over multiple keywords.  This convention uses the  '&'\n",
       "  character at the end of a string which is then continued\n",
       "  on subsequent keywords whose name = 'CONTINUE'.,\n",
       " 'ATL_REF1': 'Livingston and Wallace, 1991, \"An Atlas of the Solar Spectrum in the Infrared from 1850 to 9000 cm-1 (1.1 to 5.4 micrometer)\", NSO Technical Report 91-001',\n",
       " 'XTENSION': 'BINTABLE',\n",
       " 'NAXIS1': 28,\n",
       " 'NAXIS2': 45772,\n",
       " 'PCOUNT': 0,\n",
       " 'GCOUNT': 1,\n",
       " 'TFIELDS': 5,\n",
       " 'EXTNAME': 'Atlas_Table',\n",
       " 'EXTVER': 1,\n",
       " 'AUTHOR': 'Kevin Reardon/NSO',\n",
       " 'ATL_NAME': 'Kitt Peak/FTS/Livingston Quiet Sun Infrared Atlas 1991',\n",
       " 'COLNUM1': ' ---------- Column 1 ----------',\n",
       " 'TFORM1': '1D',\n",
       " 'TTYPE1': 'Wavelength Scale   1',\n",
       " 'TUNIT1': 'Nanometers',\n",
       " 'TDMIN1': 4540.1021134,\n",
       " 'TDMAX1': 5409.75110249,\n",
       " 'TDESC1': 'Kitt Peak/1991/IR Quiet Sun Wavelength Scale',\n",
       " 'TCUNI1': 'nm',\n",
       " 'TRPIX1': 22886,\n",
       " 'TDELT1': 0.019,\n",
       " 'TMTHD1': 'Observation - Direct',\n",
       " 'TWSCL1': 'wavelength',\n",
       " 'TWVRF1': 'air',\n",
       " 'TSAMP1': 'uniform',\n",
       " 'TTITL1': 'Kitt Peak IR Quiet Wavelength',\n",
       " 'TLABL1': 'KP/FTS/IR Wavescale',\n",
       " 'TOBJC1': 'Data Scale',\n",
       " 'TTRGT1': 'None',\n",
       " 'TWSOL1': False,\n",
       " 'TWATM1': False,\n",
       " 'COLNUM2': ' ---------- Column 2 ----------',\n",
       " 'TFORM2': '1E',\n",
       " 'TTYPE2': 'Local Intensity   1',\n",
       " 'TUNIT2': 'Relint',\n",
       " 'TDMIN2': -0.0458236,\n",
       " 'TDMAX2': 1.57703,\n",
       " 'TDESC2': 'Kitt Peak IR Disk Center Atlas 1991',\n",
       " 'TMTHD2': 'Observation - Direct',\n",
       " 'TTITL2': 'FTS/1991/IR Quiet Sun with Atmosphere',\n",
       " 'TLABL2': 'FTS IR Quiet Sun w/ Atm',\n",
       " 'TOBJC2': 'Sun',\n",
       " 'TTRGT2': 'Quiet Sun',\n",
       " 'TWSOL2': True,\n",
       " 'TWATM2': True,\n",
       " 'TAIRM2': '1',\n",
       " 'TDATE2': '1990-12-18T19:50:00',\n",
       " 'TMU2': 1.0,\n",
       " 'TRAD2': 0.0,\n",
       " 'TTEMP2': 18.0,\n",
       " 'TPRES2': 79670.0,\n",
       " 'TCOMM2': 'Observed: 1990-12-18 19:10-20:30 UT, airmasses 1.75-1.85',\n",
       " 'COLNUM3': ' ---------- Column 3 ----------',\n",
       " 'TFORM3': '1E',\n",
       " 'TTYPE3': 'Local Intensity   2',\n",
       " 'TUNIT3': 'Relint',\n",
       " 'TDMIN3': 0.530713,\n",
       " 'TDMAX3': 1.15477,\n",
       " 'TDESC3': 'Kitt Peak IR Disk Center Atlas 1991 - Telluric Corrected',\n",
       " 'TMTHD3': 'Observation - Direct',\n",
       " 'TTITL3': 'FTS/1991/IR Quiet Sun without Atmosphere',\n",
       " 'TLABL3': 'FTS IR Quiet Sun w/out Atm',\n",
       " 'TOBJC3': 'Sun',\n",
       " 'TTRGT3': 'Quiet Sun',\n",
       " 'TWSOL3': True,\n",
       " 'TWATM3': False,\n",
       " 'TAIRM3': '0',\n",
       " 'TDATE3': '1990-12-18T19:50:00',\n",
       " 'TMU3': 1.0,\n",
       " 'TRAD3': 0.0,\n",
       " 'TTEMP3': 18.0,\n",
       " 'TPRES3': 79670.0,\n",
       " 'TCOMM3': 'Observed: 1990-12-18 19:10-20:30 UT, airmasses 1.75-1.85',\n",
       " 'COLNUM4': ' ---------- Column 4 ----------',\n",
       " 'TFORM4': '1E',\n",
       " 'TTYPE4': 'Telluric Spectrum   1',\n",
       " 'TUNIT4': 'Relint',\n",
       " 'TDMIN4': -0.048109,\n",
       " 'TDMAX4': 1.01048,\n",
       " 'TDESC4': 'Kitt Peak IR Atlas 1991 - Telluric Component',\n",
       " 'TMTHD4': 'Observation - Derived',\n",
       " 'TTITL4': 'FTS/1991/IR Telluric 1991',\n",
       " 'TLABL4': 'FTS IR Telluric',\n",
       " 'TOBJC4': 'Earth Atmosphere',\n",
       " 'TTRGT4': 'None',\n",
       " 'TWSOL4': False,\n",
       " 'TWATM4': True,\n",
       " 'TAIRM4': '1',\n",
       " 'TDATE4': '1990-12-18',\n",
       " 'TTEMP4': 18.0,\n",
       " 'TPRES4': 79670.0,\n",
       " 'COLNUM5': ' ---------- Column 5 ----------',\n",
       " 'TFORM5': '1D',\n",
       " 'TTYPE5': 'Wavelength Scale   2',\n",
       " 'TUNIT5': 'cm^-1',\n",
       " 'TDMIN5': 1848.51387995,\n",
       " 'TDMAX5': 2202.59363121,\n",
       " 'TDESC5': 'Kitt Peak/1991/IR Quiet Sun Wavenumber Scale',\n",
       " 'TMTHD5': 'Observation - Direct',\n",
       " 'TWSCL5': 'wavenumber',\n",
       " 'TWVRF5': 'air',\n",
       " 'TSAMP5': 'non-uniform',\n",
       " 'TTITL5': 'Kitt Peak Wavenumber',\n",
       " 'TLABL5': 'KP-FTS-IR Wavenumber',\n",
       " 'TOBJC5': 'Data Scale',\n",
       " 'TTRGT5': 'None',\n",
       " 'TWSOL5': False,\n",
       " 'TWATM5': False,\n",
       " 'TCUNI5': 'cm^-1',\n",
       " 'TRPIX5': 22886,\n",
       " 'TDELT5': -0.00767677,\n",
       " 'TCOMM4': 'Observed: 1990-12-18 19:10-20:30 UT, airmasses 1.75-1.85 and 22:58-23:38, airmasses 3.9-7.0 airmasses'}"
      ]
     },
     "execution_count": 8,
     "metadata": {},
     "output_type": "execute_result"
    }
   ],
   "source": [
    "fcm_list[0].dictionary"
   ]
  },
  {
   "cell_type": "code",
   "execution_count": null,
   "metadata": {},
   "outputs": [],
   "source": []
  }
 ],
 "metadata": {
  "kernelspec": {
   "display_name": "Python 3",
   "language": "python",
   "name": "python3"
  },
  "language_info": {
   "codemirror_mode": {
    "name": "ipython",
    "version": 3
   },
   "file_extension": ".py",
   "mimetype": "text/x-python",
   "name": "python",
   "nbconvert_exporter": "python",
   "pygments_lexer": "ipython3",
   "version": "3.7.6"
  }
 },
 "nbformat": 4,
 "nbformat_minor": 4
}
