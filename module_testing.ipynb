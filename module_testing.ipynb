{
 "cells": [
  {
   "cell_type": "code",
   "execution_count": 1,
   "metadata": {},
   "outputs": [],
   "source": [
    "import numpy as np\n",
    "from astropy.io import fits\n",
    "import atlastools\n",
    "from astropy import units as u"
   ]
  },
  {
   "cell_type": "code",
   "execution_count": 2,
   "metadata": {
    "scrolled": false
   },
   "outputs": [],
   "source": [
    "# Issue - better way to search for atlas files? Raise an error if file is not available?\n",
    "atlas_files_base = 'atlasfiles/'\n",
    "file  = atlas_files_base + 'neckel.hamburg.atlas.wvscl_smooth.bintab.v1.fits.gz'\n",
    "#file  = 'neckel.hamburg.atlas.wvscl_smooth.bintab.v1.fits.gz'\n",
    "#file  = atlas_files_base + 'stenflo.SS3.5mA.bintab.v2.fits'\n",
    "#file  = atlas_files_base + 'kitt.peak.ir.1-5micron.atlas.wavelnth.bintab.fits.gz'\n",
    "#file  = atlas_files_base + 'kitt.peak.quietsun.350-740nm.1998.v1.fits.gz'\n",
    "#f     = fits.open(file)\n",
    "exten = 1"
   ]
  },
  {
   "cell_type": "code",
   "execution_count": 3,
   "metadata": {},
   "outputs": [
    {
     "name": "stdout",
     "output_type": "stream",
     "text": [
      "atlasfiles/neckel.hamburg.atlas.wvscl_smooth.bintab.v1.fits.gz\n"
     ]
    }
   ],
   "source": [
    "print(file)\n",
    "atlasdict = atlastools.make_dictionary(file,1)\n",
    "fileopen = fits.open(file, memmap=True)\n",
    "wave_col_id = fileopen[0].header['ATLWVCOL']\n"
   ]
  },
  {
   "cell_type": "code",
   "execution_count": 4,
   "metadata": {},
   "outputs": [
    {
     "name": "stdout",
     "output_type": "stream",
     "text": [
      "Wavelength Scale   1\n",
      "['1']\n",
      "([3290.0013], ['TDMIN1'])\n",
      "([12509.9824853], ['TDMAX1'])\n",
      "(['nm'], ['TCUNI1'])\n",
      "[3290.0013] nm [12509.9824853] nm\n",
      "Wavelength Scale   1\n",
      "[1107962]\n",
      "1107962\n",
      "Wavelength Scale   1\n",
      "atlasfiles/neckel.hamburg.atlas.wvscl_smooth.bintab.v1.fits.gz\n",
      "[3290.0013] nm\n"
     ]
    }
   ],
   "source": [
    "print(wave_col_id)\n",
    "waveref_col = (atlastools.find_column_index(atlasdict, wave_col_id))[0].pop()\n",
    "print(waveref_col)\n",
    "print(atlastools.search_key('TDMIN' + waveref_col[0], atlasdict))\n",
    "print(atlastools.search_key('TDMAX' + waveref_col[0], atlasdict))\n",
    "print(atlastools.search_key('TCUNI' + waveref_col[0], atlasdict))\n",
    "\n",
    "wave_col_id = fileopen[0].header['ATLWVCOL']\n",
    "waveref_col = (atlastools.find_column_index(atlasdict, wave_col_id))[0].pop()\n",
    "wavemin     = atlastools.search_key('TDMIN' + waveref_col[0], atlasdict)\n",
    "wavemax     = atlastools.search_key('TDMAX' + waveref_col[0], atlasdict)\n",
    "waveunit    = atlastools.search_key('TCUNI' + waveref_col[0], atlasdict)\n",
    "waveunit    = (atlastools.search_key('TCUNI' + waveref_col[0], atlasdict))[0]\n",
    "waveunit_ap = atlastools.tunit_str_to_unit(waveunit[0])\n",
    "wavemin     = wavemin[0] * waveunit_ap\n",
    "wavemax     = wavemax[0] * waveunit_ap\n",
    "print(wavemin,wavemax)\n",
    "\n",
    "wave_col_id = (atlastools.search_key('ATLWVCOL',atlasdict))[0]\n",
    "print(wave_col_id[0])\n",
    "print((atlastools.search_key('NAXIS2',atlasdict))[0])\n",
    "print(fileopen[1].header['NAXIS2'])\n",
    "print(fileopen[0].header['ATLWVCOL'])\n",
    "\n",
    "print(file)\n",
    "fcm = atlastools.filecontent_map(file)\n",
    "print(fcm.extension_info[0].wavemin)"
   ]
  },
  {
   "cell_type": "code",
   "execution_count": 5,
   "metadata": {},
   "outputs": [
    {
     "name": "stdout",
     "output_type": "stream",
     "text": [
      "[3290.0013] nm\n",
      "[12509.9824853] nm\n"
     ]
    }
   ],
   "source": [
    "print(fcm.extension_info[0].wavemin)\n",
    "print(fcm.extension_info[0].wavemax)"
   ]
  },
  {
   "cell_type": "code",
   "execution_count": 6,
   "metadata": {},
   "outputs": [
    {
     "name": "stdout",
     "output_type": "stream",
     "text": [
      "/Users/kere1282/Google Drive/kreardon/Science/Solar_Atlases/solaratlas/atlastools.py\n",
      "/Users/kere1282/Google Drive/kreardon/Science/Solar_Atlases/solaratlas\n",
      "-----------------------------------------------------------\n",
      "/Users/kere1282/Google Drive/kreardon/Science/Solar_Atlases/solaratlas/atlasfiles/neckel.hamburg.atlas.wvscl_smooth.bintab.v1.fits.gz\n",
      "-----------------------------------------------------------\n",
      "-----------------------------------------------------------\n",
      "/Users/kere1282/Google Drive/kreardon/Science/Solar_Atlases/solaratlas/atlasfiles/kitt.peak.quietsun.350-740nm.1998.v1.fits.gz\n",
      "-----------------------------------------------------------\n",
      "-----------------------------------------------------------\n",
      "/Users/kere1282/Google Drive/kreardon/Science/Solar_Atlases/solaratlas/atlasfiles/kitt.peak.umbra.1-2.5micron.atlas.v1.fits.gz\n",
      "-----------------------------------------------------------\n",
      "-----------------------------------------------------------\n",
      "/Users/kere1282/Google Drive/kreardon/Science/Solar_Atlases/solaratlas/atlasfiles/stenflo.SS3.5mA.bintab.v1.fits.gz\n",
      "-----------------------------------------------------------\n"
     ]
    }
   ],
   "source": [
    "from pathlib import Path\n",
    "atlas_package_toolkit   = (Path('atlastools.py').resolve())\n",
    "print(atlas_package_toolkit)\n",
    "atlas_package_directory = atlas_package_toolkit.parent\n",
    "print(atlas_package_directory)\n",
    "\n",
    "atlas_files = []\n",
    "for matching_file in atlas_package_directory.rglob(\"*v1*fits*\"):\n",
    "     atlas_files.append(matching_file.resolve())\n",
    "     print(\"-----------------------------------------------------------\")\n",
    "     print(matching_file.resolve())\n",
    "     print(\"-----------------------------------------------------------\")\n",
    "     atlastools.filecontent_map(matching_file.resolve())\n"
   ]
  },
  {
   "cell_type": "code",
   "execution_count": 7,
   "metadata": {},
   "outputs": [
    {
     "name": "stdout",
     "output_type": "stream",
     "text": [
      "Current directory: /Users/kere1282/Google Drive/kreardon/Science/Solar_Atlases/solaratlas\n",
      "\n",
      "Available atlas files:\n",
      "\n",
      "atlasfiles/neckel.hamburg.atlas.wvscl_smooth.bintab.v1.fits.gz\n",
      "atlasfiles/kitt.peak.quietsun.350-740nm.1998.v1.fits.gz\n",
      "atlasfiles/kitt.peak.umbra.1-2.5micron.atlas.v1.fits.gz\n",
      "atlasfiles/kitt.peak.quietsun.1-5micron.atlas.wavelnth.fits.gz\n",
      "atlasfiles/stenflo.SS3.5mA.bintab.v1.fits.gz\n",
      "______________________________\n",
      "\n",
      "atlastools.py directory: /Users/kere1282/Google Drive/kreardon/Science/Solar_Atlases/solaratlas\n",
      "\n",
      "Available atlas files:\n",
      "\n",
      "atlasfiles/neckel.hamburg.atlas.wvscl_smooth.bintab.v1.fits.gz\n",
      "atlasfiles/kitt.peak.quietsun.350-740nm.1998.v1.fits.gz\n",
      "atlasfiles/kitt.peak.umbra.1-2.5micron.atlas.v1.fits.gz\n",
      "atlasfiles/kitt.peak.quietsun.1-5micron.atlas.wavelnth.fits.gz\n",
      "atlasfiles/stenflo.SS3.5mA.bintab.v1.fits.gz\n",
      "______________________________\n",
      "\n",
      "atlasfiles/ directory: /Users/kere1282/Google Drive/kreardon/Science/Solar_Atlases/solaratlas\n",
      "\n",
      "Available atlas files:\n",
      "\n",
      "atlasfiles/neckel.hamburg.atlas.wvscl_smooth.bintab.v1.fits.gz\n",
      "atlasfiles/kitt.peak.quietsun.350-740nm.1998.v1.fits.gz\n",
      "atlasfiles/kitt.peak.umbra.1-2.5micron.atlas.v1.fits.gz\n",
      "atlasfiles/kitt.peak.quietsun.1-5micron.atlas.wavelnth.fits.gz\n",
      "atlasfiles/stenflo.SS3.5mA.bintab.v1.fits.gz\n",
      "______________________________\n",
      "None\n"
     ]
    }
   ],
   "source": [
    "print(atlastools.filesearch(additional_directory=False))"
   ]
  },
  {
   "cell_type": "code",
   "execution_count": 8,
   "metadata": {},
   "outputs": [
    {
     "name": "stdout",
     "output_type": "stream",
     "text": [
      "Input file name:  /Users/kere1282/Google Drive/kreardon/Science/Solar_Atlases/solaratlas/atlasfiles/kitt.peak.quietsun.350-740nm.1998.v1.fits.gz\n",
      "Input extension:  1 \n",
      "\n"
     ]
    },
    {
     "data": {
      "text/plain": [
       "(<function print>,\n",
       " PosixPath('/Users/kere1282/Google Drive/kreardon/Science/Solar_Atlases/solaratlas/atlasfiles/kitt.peak.quietsun.350-740nm.1998.v1.fits.gz'))"
      ]
     },
     "execution_count": 8,
     "metadata": {},
     "output_type": "execute_result"
    }
   ],
   "source": [
    "# present high level view of atlas file contents (extensions, binary table columns)\n",
    "file  = atlas_files[1]\n",
    "exten = 1\n",
    "print(\"Input file name: \", file)\n",
    "print(\"Input extension: \", exten, \"\\n\")\n",
    "fcmap1 = atlastools.filecontent_map(file)\n",
    "print,fcmap1.filename"
   ]
  },
  {
   "cell_type": "code",
   "execution_count": 9,
   "metadata": {},
   "outputs": [
    {
     "name": "stdout",
     "output_type": "stream",
     "text": [
      "([['2'], ['3']], ['TOBJC2', 'TOBJC3'])\n",
      "=====\n",
      "[['2'], ['3']]\n",
      "=====\n",
      "<class 'list'> ['4']\n",
      "<class 'list'> TTYPE4\n",
      "4\n"
     ]
    }
   ],
   "source": [
    "# extract all header keyword values from FITS file extension and store in a dictionary\n",
    "dictionary = atlastools.make_dictionary(file,exten)\n",
    "print(atlastools.find_column_index(dictionary,'Sun'))\n",
    "print(\"=====\")\n",
    "print((atlastools.find_column_index(dictionary, 'Sun'))[0])\n",
    "print(\"=====\")\n",
    "(colfind, colname) = atlastools.find_column_index(dictionary, 'Telluric Spectrum   1')\n",
    "print(type(colfind[0]),colfind[0])\n",
    "print(type(colname),colname[0])\n",
    "print(colfind[0].pop())"
   ]
  },
  {
   "cell_type": "code",
   "execution_count": 10,
   "metadata": {
    "scrolled": true
   },
   "outputs": [
    {
     "data": {
      "text/plain": [
       "{'SIMPLE': True,\n",
       " 'BITPIX': 8,\n",
       " 'NAXIS': 2,\n",
       " 'EXTEND': True,\n",
       " 'OBJECT': 'Sun',\n",
       " 'CMPNT_01': 'Wavelength Scale',\n",
       " 'CMPNT_02': 'Intensity Atlas with Telluric Absorption',\n",
       " 'CMPNT_03': 'Intensity Atlas without Telluric Absorption',\n",
       " 'CMPNT_04': 'Derived Telluric Absorption',\n",
       " 'CTYPE1': 'AWAV',\n",
       " 'CDELT1': 0.0002,\n",
       " 'CUNIT1': 'nm',\n",
       " 'WAVEREF': 'air',\n",
       " 'WAVEMIN': 357.001647949,\n",
       " 'WAVEMAX': 740.699647949,\n",
       " 'WAVEUNIT': -9,\n",
       " 'WAVENAME': 'nm',\n",
       " 'ATLWVCOL': 'Wavelength Scale   1',\n",
       " 'ATLSPCOL': 'Local Intensity   1',\n",
       " 'ATL_SAMP': 'uniform',\n",
       " 'ATLRSLTN': '350000',\n",
       " 'ATL_SOUR': 'Kitt Peak/FTS/Wallace 1998',\n",
       " 'ATL_MU': 1.0,\n",
       " 'ATL_RAD': 0.0,\n",
       " 'FILEVER': '0.9',\n",
       " 'ATL_WSOL': True,\n",
       " 'ATL_MISS': -1.0,\n",
       " 'ATL_OBS': 'Kitt Peak Observatory',\n",
       " 'ATL_INST': 'FTS',\n",
       " 'ATL_LAT': 31.9583,\n",
       " 'ATL_LONG': 111.595,\n",
       " 'ATL_ALT': 2096.0,\n",
       " 'LONGSTRN': 'OGIP 1.0',\n",
       " 'ATL_ADS1': 'https://ui.adsabs.harvard.edu/abs/1998assp.book.....W',\n",
       " 'COMMENT':  This FITS file may contain long string keyword values that are\n",
       "  continued over multiple keywords.  This convention uses the  '&'\n",
       "  character at the end of a string which is then continued\n",
       "  on subsequent keywords whose name = 'CONTINUE'.,\n",
       " 'ATL_REF1': 'Wallace, Hinkle, Livingston, 1998, \"An atlas of the spectrum of the solar photosphere from 13,500 to 28,000 cm-1 (3570 to 7405 A)\", NSO Technical Report 98-001',\n",
       " 'XTENSION': 'BINTABLE',\n",
       " 'NAXIS1': 20,\n",
       " 'NAXIS2': 1918491,\n",
       " 'PCOUNT': 0,\n",
       " 'GCOUNT': 1,\n",
       " 'TFIELDS': 4,\n",
       " 'EXTNAME': 'Atlas_Table',\n",
       " 'EXTVER': 1,\n",
       " 'AUTHOR': 'Kevin Reardon/NSO',\n",
       " 'ATL_NAME': 'Kitt Peak/FTS/Wallace Visible Atlas 1998',\n",
       " 'COLNM1': ' ---------- Column 1 ----------',\n",
       " 'TFORM1': '1D',\n",
       " 'TTYPE1': 'Wavelength Scale   1',\n",
       " 'TUNIT1': 'Nanometers',\n",
       " 'TDMIN1': 357.001647949,\n",
       " 'TDMAX1': 740.699647949,\n",
       " 'TDESC1': 'Kitt Peak/1998 Wavelength Scale',\n",
       " 'TCUNI1': 'nm',\n",
       " 'TDELT1': 0.0002,\n",
       " 'TLABL1': 'KP-FTS Wavescale',\n",
       " 'TTITL1': 'Kitt Peak Wavelength',\n",
       " 'TWATM1': False,\n",
       " 'TWSOL1': False,\n",
       " 'TSAMP1': 'uniform',\n",
       " 'TTRGT1': 'None',\n",
       " 'TOBJC1': 'Data Scale',\n",
       " 'TMTHD1': 'Observation - Direct',\n",
       " 'COLNM2': ' ---------- Column 2 ----------',\n",
       " 'TFORM2': '1E',\n",
       " 'TTYPE2': 'Local Intensity   1',\n",
       " 'TUNIT2': 'Relint',\n",
       " 'TDMIN2': -1.12714,\n",
       " 'TDMAX2': 1.01936,\n",
       " 'TDESC2': 'Kitt Peak Visible Disk Center Atlas 1998',\n",
       " 'TLABL2': 'KP Vis w/ Atm',\n",
       " 'TTITL2': 'KP Visible 1998 with Atmosphere',\n",
       " 'TAIRM2': '1',\n",
       " 'TWATM2': True,\n",
       " 'TWSOL2': True,\n",
       " 'TSAMP2': 'uniform',\n",
       " 'TTRGT2': 'Quiet Sun',\n",
       " 'TOBJC2': 'Sun',\n",
       " 'TMTHD2': 'Observation - Direct',\n",
       " 'COLNM3': ' ---------- Column 3 ----------',\n",
       " 'TFORM3': '1E',\n",
       " 'TTYPE3': 'Local Intensity   2',\n",
       " 'TUNIT3': 'Relint',\n",
       " 'TDMIN3': -1.34444,\n",
       " 'TDMAX3': 1.29397,\n",
       " 'TDESC3': 'Kitt Peak Visible Disk Center Atlas 1998 - Telluric Corrected',\n",
       " 'TLABL3': 'KP Vis w/out Atm',\n",
       " 'TTITL3': 'Kitt Peak 1998 without Atmosphere',\n",
       " 'TAIRM3': '0',\n",
       " 'TWATM3': False,\n",
       " 'TWSOL3': True,\n",
       " 'TSAMP3': 'uniform',\n",
       " 'TTRGT3': 'Quiet Sun',\n",
       " 'TOBJC3': 'Sun',\n",
       " 'TMTHD3': 'Observation - Derived',\n",
       " 'COLNM4': ' ---------- Column 4 ----------',\n",
       " 'TFORM4': '1E',\n",
       " 'TTYPE4': 'Telluric Spectrum   1',\n",
       " 'TUNIT4': 'Relint',\n",
       " 'TDMIN4': -1.29066,\n",
       " 'TDMAX4': 1.28846,\n",
       " 'TDESC4': 'Kitt Peak Visible Telluric Atlas 1998',\n",
       " 'TLABL4': 'KP Vis Telluric',\n",
       " 'TTITL4': 'Kitt Peak Telluric 1998',\n",
       " 'TAIRM4': '1',\n",
       " 'TWATM4': True,\n",
       " 'TWSOL4': False,\n",
       " 'TSAMP4': 'uniform',\n",
       " 'TTRGT4': 'None',\n",
       " 'TOBJC4': 'Earth Atmosphere',\n",
       " 'TMTHD4': 'Observation - Derived'}"
      ]
     },
     "execution_count": 10,
     "metadata": {},
     "output_type": "execute_result"
    }
   ],
   "source": [
    "dictionary"
   ]
  },
  {
   "cell_type": "code",
   "execution_count": 11,
   "metadata": {},
   "outputs": [
    {
     "data": {
      "text/plain": [
       "(['Wavelength Scale   1',\n",
       "  'Local Intensity   1',\n",
       "  'Local Intensity   2',\n",
       "  'Telluric Spectrum   1'],\n",
       " ['TTYPE1', 'TTYPE2', 'TTYPE3', 'TTYPE4'])"
      ]
     },
     "execution_count": 11,
     "metadata": {},
     "output_type": "execute_result"
    }
   ],
   "source": [
    "# output values of all keywords with a certain basename\n",
    "atlastools.search_key('TTYPE', dictionary)"
   ]
  },
  {
   "cell_type": "code",
   "execution_count": 12,
   "metadata": {},
   "outputs": [
    {
     "name": "stdout",
     "output_type": "stream",
     "text": [
      "nan\n",
      "\n",
      "Component type: Wavelength Scale   1\n",
      "Column data units: Nanometers\n",
      "Axis Labels: Kitt Peak/1998 Wavelength Scale\n",
      "Target: Data Scale\n",
      "Derivation Method: Observation - Direct\n",
      "Includes Telluric Absorption: False\n",
      "\n"
     ]
    }
   ],
   "source": [
    "# print more detailed information on the contents of each column in the binary table\n",
    "atlastools.column_information(dictionary)"
   ]
  },
  {
   "cell_type": "code",
   "execution_count": 13,
   "metadata": {},
   "outputs": [
    {
     "name": "stdout",
     "output_type": "stream",
     "text": [
      "Data type: Wavelength Scale   1 - Includes telluric absorption?: False\n",
      "\n",
      "Data type: Local Intensity   1 - Includes telluric absorption?: True\n",
      "\n",
      "Data type: Local Intensity   2 - Includes telluric absorption?: False\n",
      "\n",
      "Data type: Telluric Spectrum   1 - Includes telluric absorption?: True\n",
      "\n"
     ]
    }
   ],
   "source": [
    "# print which columns include telluric absorption\n",
    "atlastools.telluric_info(dictionary)"
   ]
  },
  {
   "cell_type": "code",
   "execution_count": 14,
   "metadata": {},
   "outputs": [
    {
     "name": "stdout",
     "output_type": "stream",
     "text": [
      "[[], ['1']]\n",
      "[]\n"
     ]
    }
   ],
   "source": [
    "wavelength_primary_colindex = [[], ['1']]\n",
    "print(wavelength_primary_colindex)\n",
    "print(wavelength_primary_colindex[0])"
   ]
  },
  {
   "cell_type": "code",
   "execution_count": 15,
   "metadata": {},
   "outputs": [
    {
     "name": "stdout",
     "output_type": "stream",
     "text": [
      "TWATM2 True\n",
      "TWSOL2 True\n",
      "TWSOL3 True\n",
      "TWATM4 True\n",
      "['TWATM2', 'TWSOL2', 'TWSOL3', 'TWATM4']\n",
      "([['2'], ['4']], ['TWATM2', 'TWATM4'])\n"
     ]
    }
   ],
   "source": [
    "import re\n",
    "keyword_match = []\n",
    "for keyword, value in dictionary.items():\n",
    "    if value == True and re.search(r'[0-9]$',keyword):\n",
    "            keyword_match.append(keyword)\n",
    "            print(keyword, value)\n",
    "print(keyword_match)\n",
    "print(atlastools.find_column_index(dictionary, True,'^TWATM'))\n"
   ]
  },
  {
   "cell_type": "code",
   "execution_count": 16,
   "metadata": {},
   "outputs": [
    {
     "name": "stdout",
     "output_type": "stream",
     "text": [
      "checking  ['Wavelength Scale   1', 'Local Intensity   1', 'Local Intensity   2', 'Telluric Spectrum   1']\n",
      "keywords  ['TTYPE1', 'TTYPE2', 'TTYPE3', 'TTYPE4']\n",
      "Wavelength Scale   1\n",
      "Primary Wavelength Scale TTYPE1 Wavelength Scale   1\n",
      "Local Intensity   1\n",
      "Local Intensity   2\n",
      "Telluric Spectrum   1\n",
      "Wavelength Scale   1 [['1']]\n",
      "<class 'str'> Nanometers\n",
      "1918489\n",
      "\n",
      "### atlas metadata information keys ###\n",
      "\n",
      "### full atlas metadata information ###\n",
      "\n",
      "### full atlas spectral data ###\n",
      "{'Wavelength Scale   1': <Quantity [357.00184795, 357.00204795, 357.00224795, ..., 740.69904795,\n",
      "           740.69924795, 740.69944795] nm>, 'Local Intensity   1': <Quantity [0.06899895, 0.06946772, 0.07014145, ..., 0.9896923 , 0.98953325,\n",
      "           0.9893479 ]>, 'Local Intensity   2': <Quantity [0.06814852, 0.06861152, 0.06927694, ..., 0.9907729 , 0.99054056,\n",
      "           0.99031216]>, 'Telluric Spectrum   1': <Quantity [0.99742305, 0.99742305, 0.99742305, ..., 0.99891067, 0.99898386,\n",
      "           0.9990266 ]>}\n",
      "\n",
      "### end ###\n",
      "key -  Local Intensity   1\n",
      "key -  Local Intensity   2\n",
      "key -  Telluric Spectrum   1\n",
      "[<Spectrum1D(flux=<Quantity [0.06899895, 0.06946772, 0.07014145, ..., 0.9896923 , 0.98953325,\n",
      "           0.9893479 ]>, spectral_axis=<SpectralCoord [357.00184795, 357.00204795, 357.00224795, ...,\n",
      "                740.69904795, 740.69924795, 740.69944795] nm, \n",
      "\tradial_velocity=0.0 km / s, \n",
      "\tredshift=0.0, \n",
      "\tdoppler_rest=0.0 Angstrom, \n",
      "\tdoppler_convention=None, \n",
      "\tobserver=None, \n",
      "\ttarget=None>)>, <Spectrum1D(flux=<Quantity [0.06814852, 0.06861152, 0.06927694, ..., 0.9907729 , 0.99054056,\n",
      "           0.99031216]>, spectral_axis=<SpectralCoord [357.00184795, 357.00204795, 357.00224795, ...,\n",
      "                740.69904795, 740.69924795, 740.69944795] nm, \n",
      "\tradial_velocity=0.0 km / s, \n",
      "\tredshift=0.0, \n",
      "\tdoppler_rest=0.0 Angstrom, \n",
      "\tdoppler_convention=None, \n",
      "\tobserver=None, \n",
      "\ttarget=None>)>, <Spectrum1D(flux=<Quantity [0.99742305, 0.99742305, 0.99742305, ..., 0.99891067, 0.99898386,\n",
      "           0.9990266 ]>, spectral_axis=<SpectralCoord [357.00184795, 357.00204795, 357.00224795, ...,\n",
      "                740.69904795, 740.69924795, 740.69944795] nm, \n",
      "\tradial_velocity=0.0 km / s, \n",
      "\tredshift=0.0, \n",
      "\tdoppler_rest=0.0 Angstrom, \n",
      "\tdoppler_convention=None, \n",
      "\tobserver=None, \n",
      "\ttarget=None>)>]\n"
     ]
    }
   ],
   "source": [
    "# load in contents of selected file\n",
    "(file_data, spec_data) = atlastools.store_data(file, exten)\n",
    "print(\"\\n### atlas metadata information keys ###\")\n",
    "#print(spec_data.keys())\n",
    "print(\"\\n### full atlas metadata information ###\")\n",
    "#print(spec_data)\n",
    "print(\"\\n### full atlas spectral data ###\")\n",
    "print(file_data)\n",
    "print(\"\\n### end ###\")\n",
    "spec1d_all = []\n",
    "spec_temp = spec_data['Local Intensity   1']\n",
    "spec1d_all.append(spec_temp)\n",
    "spec_temp = spec_data['Telluric Spectrum   1']\n",
    "spec1d_all.append(spec_temp)\n",
    "#print(spec1d_all)\n",
    "spec1d_all = []\n",
    "for key in spec_data:\n",
    "    print(\"key - \",key)\n",
    "    spec1d_all.append(spec_data[key])\n",
    "print(spec1d_all)"
   ]
  },
  {
   "cell_type": "code",
   "execution_count": 17,
   "metadata": {},
   "outputs": [
    {
     "name": "stdout",
     "output_type": "stream",
     "text": [
      "<class 'specutils.spectra.spectrum1d.Spectrum1D'>\n",
      "<class 'specutils.spectra.spectrum1d.Spectrum1D'>\n"
     ]
    }
   ],
   "source": [
    "search_key = 'Local Intensity   1'\n",
    "spect_atm  = spec_data.get(search_key)\n",
    "print(type(spect_atm))\n",
    "search_key = 'Telluric Spectrum   1'\n",
    "spect_atm  = spec_data.get(search_key)\n",
    "print(type(spect_atm))\n"
   ]
  },
  {
   "cell_type": "code",
   "execution_count": 18,
   "metadata": {},
   "outputs": [
    {
     "name": "stdout",
     "output_type": "stream",
     "text": [
      "['Kitt Peak Observatory']\n",
      "[(-1994164.26473224, 5037968.43602035, 3357618.61510581)] m\n",
      "0\n"
     ]
    }
   ],
   "source": [
    "# create atlas object using make_atlas, but don't populate it with full spectral data\n",
    "atlas = atlastools.make_atlas(file, exten)\n",
    "print(atlas.observatory.name)\n",
    "print(atlas.observatory.location)\n",
    "# only the metadata were loaded, not the full spectra\n",
    "print(atlas.sun)"
   ]
  },
  {
   "cell_type": "code",
   "execution_count": 19,
   "metadata": {},
   "outputs": [
    {
     "name": "stdout",
     "output_type": "stream",
     "text": [
      "checking  ['Wavelength Scale   1', 'Local Intensity   1', 'Local Intensity   2', 'Telluric Spectrum   1']\n",
      "keywords  ['TTYPE1', 'TTYPE2', 'TTYPE3', 'TTYPE4']\n",
      "Wavelength Scale   1\n",
      "Primary Wavelength Scale TTYPE1 Wavelength Scale   1\n",
      "Local Intensity   1\n",
      "Local Intensity   2\n",
      "Telluric Spectrum   1\n",
      "Wavelength Scale   1 [['1']]\n",
      "<class 'str'> Nanometers\n",
      "1918489\n",
      "populating solar atlas object\n",
      "populating telluric atlas object\n",
      "OrderedDict([('col_type', ['Local Intensity   1']), ('unit', ['Relint']), ('has_telluric', [True]), ('has_solar', [True]), ('observed_object', ['Sun']), ('observed_target', ['Quiet Sun']), ('col_title', ['KP Visible 1998 with Atmosphere']), ('col_label', ['KP Vis w/ Atm']), ('col_description', ['Kitt Peak Visible Disk Center Atlas 1998']), ('col_method', ['Observation - Direct']), ('title', ['KP Visible 1998 with Atmosphere'])])\n",
      "\n",
      "##### [357.00184795 357.00204795 357.00224795 ... 740.69904795 740.69924795\n",
      " 740.69944795] nm\n",
      "\n",
      "#####\n",
      "Spectrum1D (length=1918489)\n",
      "flux:             [ 0.99742, ..., 0.99903 ],  mean=0.98447\n",
      "spectral axis:    [ 357.0 nm, ..., 740.7 nm ],  mean=548.85 nm\n"
     ]
    }
   ],
   "source": [
    "# create atlas object using make_atlas, but by\n",
    "# setting 'loaddata', the full spectra are included in the atlas object\n",
    "atlas = atlastools.make_atlas(file, exten, loaddata=1)\n",
    "print(atlas.sun.meta)\n",
    "print(\"\\n#####\",atlas.sun.spectral_axis)\n",
    "print(\"\\n#####\")\n",
    "#print(atlas.atm.meta)\n",
    "print(atlas.atm)\n",
    "#print(\"\\n#####\",(atlas.components['Local Intensity   1']).meta)\n"
   ]
  },
  {
   "cell_type": "code",
   "execution_count": 20,
   "metadata": {},
   "outputs": [
    {
     "name": "stdout",
     "output_type": "stream",
     "text": [
      "\n",
      "===== Local Intensity   1\n",
      "\n",
      "##### Spectrum1D (length=1918489)\n",
      "flux:             [ 0.068999, ..., 0.98935 ],  mean=0.86228\n",
      "spectral axis:    [ 357.0 nm, ..., 740.7 nm ],  mean=548.85 nm\n",
      "[True]\n",
      "Local Intensity   1\n",
      "\n",
      "===== Local Intensity   2\n",
      "\n",
      "##### Spectrum1D (length=1918489)\n",
      "flux:             [ 0.068149, ..., 0.99031 ],  mean=0.84412\n",
      "spectral axis:    [ 357.0 nm, ..., 740.7 nm ],  mean=548.85 nm\n",
      "[False]\n",
      "Local Intensity   2\n",
      "\n",
      "===== Telluric Spectrum   1\n",
      "\n",
      "##### Spectrum1D (length=1918489)\n",
      "flux:             [ 0.99742, ..., 0.99903 ],  mean=0.98447\n",
      "spectral axis:    [ 357.0 nm, ..., 740.7 nm ],  mean=548.85 nm\n",
      "[True]\n",
      "Telluric Spectrum   1\n",
      "{'Local Intensity   1': <Spectrum1D(flux=<Quantity [0.06899895, 0.06946772, 0.07014145, ..., 0.9896923 , 0.98953325,\n",
      "           0.9893479 ]>, spectral_axis=<SpectralCoord [357.00184795, 357.00204795, 357.00224795, ...,\n",
      "                740.69904795, 740.69924795, 740.69944795] nm, \n",
      "\tradial_velocity=0.0 km / s, \n",
      "\tredshift=0.0, \n",
      "\tdoppler_rest=0.0 Angstrom, \n",
      "\tdoppler_convention=None, \n",
      "\tobserver=None, \n",
      "\ttarget=None>)>, 'Local Intensity   2': <Spectrum1D(flux=<Quantity [0.06814852, 0.06861152, 0.06927694, ..., 0.9907729 , 0.99054056,\n",
      "           0.99031216]>, spectral_axis=<SpectralCoord [357.00184795, 357.00204795, 357.00224795, ...,\n",
      "                740.69904795, 740.69924795, 740.69944795] nm, \n",
      "\tradial_velocity=0.0 km / s, \n",
      "\tredshift=0.0, \n",
      "\tdoppler_rest=0.0 Angstrom, \n",
      "\tdoppler_convention=None, \n",
      "\tobserver=None, \n",
      "\ttarget=None>)>, 'Telluric Spectrum   1': <Spectrum1D(flux=<Quantity [0.99742305, 0.99742305, 0.99742305, ..., 0.99891067, 0.99898386,\n",
      "           0.9990266 ]>, spectral_axis=<SpectralCoord [357.00184795, 357.00204795, 357.00224795, ...,\n",
      "                740.69904795, 740.69924795, 740.69944795] nm, \n",
      "\tradial_velocity=0.0 km / s, \n",
      "\tredshift=0.0, \n",
      "\tdoppler_rest=0.0 Angstrom, \n",
      "\tdoppler_convention=None, \n",
      "\tobserver=None, \n",
      "\ttarget=None>)>}\n"
     ]
    }
   ],
   "source": [
    "for solobj in atlas.components:\n",
    "   print(\"\\n=====\",solobj)\n",
    "   print(\"\\n#####\",atlas.components[solobj])\n",
    "   one_component = atlas.components[solobj]\n",
    "   print(one_component.meta['has_telluric'])\n",
    "   print(solobj)\n",
    "print(atlas.components)"
   ]
  },
  {
   "cell_type": "code",
   "execution_count": 22,
   "metadata": {},
   "outputs": [
    {
     "data": {
      "image/png": "[encoded data removed]",
      "text/plain": [
       "<Figure size 792x576 with 1 Axes>"
      ]
     },
     "metadata": {
      "needs_background": "light"
     },
     "output_type": "display_data"
    }
   ],
   "source": [
    "atlastools.atlas_spectrum_plot('Local Intensity   1', atlas, \n",
    "            startwave=4000*u.AA, endwave=500*u.nm, plot_unit='angstrom')"
   ]
  },
  {
   "cell_type": "code",
   "execution_count": 23,
   "metadata": {},
   "outputs": [
    {
     "name": "stdout",
     "output_type": "stream",
     "text": [
      "checking  ['Wavelength Scale   1', 'Local Intensity   1', 'Local Flux   1']\n",
      "keywords  ['TTYPE1', 'TTYPE2', 'TTYPE3']\n",
      "Wavelength Scale   1\n",
      "Primary Wavelength Scale TTYPE1 Wavelength Scale   1\n",
      "Local Intensity   1\n",
      "Local Flux   1\n",
      "Wavelength Scale   1 [['1']]\n",
      "<class 'str'> Nanometers\n",
      "1107960\n",
      "populating solar atlas object\n"
     ]
    },
    {
     "data": {
      "text/plain": [
       "[<matplotlib.lines.Line2D at 0x15a4f73d0>]"
      ]
     },
     "execution_count": 23,
     "metadata": {},
     "output_type": "execute_result"
    },
    {
     "data": {
      "image/png": "[encoded data removed]",
      "text/plain": [
       "<Figure size 432x288 with 1 Axes>"
      ]
     },
     "metadata": {
      "needs_background": "light"
     },
     "output_type": "display_data"
    }
   ],
   "source": [
    "import matplotlib.pyplot as plt\n",
    "import numpy as np\n",
    "from astropy.io import fits\n",
    "import atlastools\n",
    "from astropy import units as u\n",
    "\n",
    "atlas_files_base = 'atlasfiles/'\n",
    "file  = atlas_files_base + 'neckel.hamburg.atlas.wvscl_smooth.bintab.v1.fits.gz'\n",
    "\n",
    "exten = 1\n",
    "atlas = atlastools.make_atlas(file, exten, loaddata=1)\n",
    "continuum_normalized_spectrum = (atlas.components['Local Intensity   1'])\n",
    "local_flux = (atlas.components['Local Flux   1'])\n",
    "\n",
    "spectral_axis = continuum_normalized_spectrum.spectral_axis\n",
    "spectral_data      = continuum_normalized_spectrum.flux * local_flux.flux\n",
    "plt.plot(spectral_axis, spectral_data)\n"
   ]
  },
  {
   "cell_type": "code",
   "execution_count": null,
   "metadata": {},
   "outputs": [],
   "source": []
  }
 ],
 "metadata": {
  "kernelspec": {
   "display_name": "Python 3",
   "language": "python",
   "name": "python3"
  },
  "language_info": {
   "codemirror_mode": {
    "name": "ipython",
    "version": 3
   },
   "file_extension": ".py",
   "mimetype": "text/x-python",
   "name": "python",
   "nbconvert_exporter": "python",
   "pygments_lexer": "ipython3",
   "version": "3.7.8"
  }
 },
 "nbformat": 4,
 "nbformat_minor": 4
}
