{
 "cells": [
  {
   "cell_type": "code",
   "execution_count": 1,
   "metadata": {},
   "outputs": [],
   "source": [
    "import numpy as np\n",
    "from astropy.io import fits\n",
    "import atlastools\n",
    "from astropy import units as u"
   ]
  },
  {
   "cell_type": "code",
   "execution_count": 2,
   "metadata": {
    "scrolled": false
   },
   "outputs": [],
   "source": [
    "atlas_files_base = '../'\n",
    "#file  = atlas_files_base + 'neckel.hamburg.atlas.wvscl_smooth.bintab.v2.fits'\n",
    "#file  = atlas_files_base + 'stenflo.SS3.5mA.bintab.v2.fits'\n",
    "#file  = atlas_files_base + 'kitt.peak.ir.1-5micron.atlas.wavelnth.bintab.fits.gz'\n",
    "file  = atlas_files_base + 'kitt.peak.atlas.2mA.bintab.v2.fits.gz'\n",
    "f     = fits.open(file)\n",
    "exten = 1"
   ]
  },
  {
   "cell_type": "code",
   "execution_count": 17,
   "metadata": {},
   "outputs": [
    {
     "name": "stdout",
     "output_type": "stream",
     "text": [
      "Input file name:  ../kitt.peak.atlas.2mA.bintab.v2.fits.gz\n",
      "Input extension:  1 \n",
      "\n",
      "General file information:\n",
      "\n",
      "Object: Sun\n",
      "Atlas source: Kitt Peak/FTS/Wallace 1998\n",
      "Atlas acquisition site: Kitt Peak Observatory\n",
      "Atlas wavelength coverage: 357.00 nm – 740.70 nm\n",
      "\n",
      "EXTENSION 1:\n",
      "\n",
      "Column 0 - Wavelength Scale : value range = 357.00 – 740.70 Nanometers\n",
      "Column 1 - Local Intensity : value range = -1.13 – 1.02 Relint\n",
      "Column 2 - Local Intensity : value range = -1.34 – 1.29 Relint\n",
      "Column 3 - Telluric Spectrum : value range = -1.29 – 1.29 Relint\n",
      "\n",
      "\n",
      "\n"
     ]
    }
   ],
   "source": [
    "# present high level view of atlas file contents (extensions, binary table columns)\n",
    "print(\"Input file name: \", file)\n",
    "print(\"Input extension: \", exten, \"\\n\")\n",
    "atlastools.filecontent_map(file)"
   ]
  },
  {
   "cell_type": "code",
   "execution_count": 4,
   "metadata": {},
   "outputs": [],
   "source": [
    "# extract all header keyword values from FITS file extension and store in a dictionary\n",
    "dictionary = atlastools.make_dictionary(file,exten)"
   ]
  },
  {
   "cell_type": "code",
   "execution_count": 5,
   "metadata": {
    "scrolled": true
   },
   "outputs": [
    {
     "data": {
      "text/plain": [
       "{'SIMPLE': True,\n",
       " 'BITPIX': 8,\n",
       " 'NAXIS': 2,\n",
       " 'EXTEND': True,\n",
       " 'OBJECT': 'Sun',\n",
       " 'CMPNT_01': 'Wavelength Scale',\n",
       " 'CMPNT_02': 'Intensity Atlas with Telluric Absorption',\n",
       " 'CMPNT_03': 'Intensity Atlas without Telluric Absorption',\n",
       " 'CMPNT_04': 'Derived Telluric Absorption',\n",
       " 'CTYPE1': 'AWAV',\n",
       " 'CDELT1': 0.0002,\n",
       " 'CUNIT1': 'nm',\n",
       " 'WAVEREF': 'air',\n",
       " 'WAVEMIN': 357.001647949,\n",
       " 'WAVEMAX': 740.699647949,\n",
       " 'WAVEUNIT': -9,\n",
       " 'ATL_SAMP': 'uniform',\n",
       " 'ATLRSLTN': '350000',\n",
       " 'ATL_SOUR': 'Kitt Peak/FTS/Wallace 1998',\n",
       " 'ATL_MU': 1.0,\n",
       " 'ATL_RAD': 0.0,\n",
       " 'ATL_MISS': -1.0,\n",
       " 'ATL_OBS': 'Kitt Peak Observatory',\n",
       " 'ATL_LAT': 31.9583,\n",
       " 'ATL_LONG': 111.595,\n",
       " 'ATL_ALT': 2096.0,\n",
       " 'LONGSTRN': 'OGIP 1.0',\n",
       " 'ATL_ADS1': 'https://ui.adsabs.harvard.edu/abs/1998assp.book.....W',\n",
       " 'COMMENT':  This FITS file may contain long string keyword values that are\n",
       "  continued over multiple keywords.  This convention uses the  '&'\n",
       "  character at the end of a string which is then continued\n",
       "  on subsequent keywords whose name = 'CONTINUE'.,\n",
       " 'ATL_REF1': 'Wallace, Hinkle, Livingston, 1998, \"An atlas of the spectrum of the solar photosphere from 13,500 to 28,000 cm-1 (3570 to 7405 A)\", NSO Technical Report 98-001',\n",
       " 'XTENSION': 'BINTABLE',\n",
       " 'NAXIS1': 20,\n",
       " 'NAXIS2': 1918491,\n",
       " 'PCOUNT': 0,\n",
       " 'GCOUNT': 1,\n",
       " 'TFIELDS': 4,\n",
       " 'EXTNAME': 'Atlas_Table',\n",
       " 'EXTVER': 1,\n",
       " 'AUTHOR': 'Kevin Reardon/NSO',\n",
       " 'ATL_NAME': 'Kitt Peak/FTS/Wallace Visible Atlas 1998',\n",
       " 'COLNUM1': ' ---------- Column 1 ----------',\n",
       " 'TFORM1': '1D',\n",
       " 'TTYPE1': 'Wavelength Scale   1',\n",
       " 'TUNIT1': 'Nanometers',\n",
       " 'TDMIN1': 357.001647949,\n",
       " 'TDMAX1': 740.699647949,\n",
       " 'TDESC1': 'Kitt Peak/1998 Wavelength Scale',\n",
       " 'TCUNI1': 'nm',\n",
       " 'TDELT1': 0.0002,\n",
       " 'TLABL1': 'KP-FTS Wavescale',\n",
       " 'TTITL1': 'Kitt Peak Wavelength',\n",
       " 'TWATM1': False,\n",
       " 'TSAMP1': 'uniform',\n",
       " 'TTRGT1': 'None',\n",
       " 'TOBJC1': 'Data Scale',\n",
       " 'TMTHD1': 'Observation - Direct',\n",
       " 'COLNUM2': ' ---------- Column 2 ----------',\n",
       " 'TFORM2': '1E',\n",
       " 'TTYPE2': 'Local Intensity   1',\n",
       " 'TUNIT2': 'Relint',\n",
       " 'TDMIN2': -1.12714,\n",
       " 'TDMAX2': 1.01936,\n",
       " 'TDESC2': 'Kitt Peak Visible Disk Center Atlas 1998',\n",
       " 'TLABL2': 'KP Vis w/ Atm',\n",
       " 'TTITL2': 'KP Visible 1998 with Atmosphere',\n",
       " 'TAIRM2': '1',\n",
       " 'TWATM2': True,\n",
       " 'TSAMP2': 'uniform',\n",
       " 'TTRGT2': 'Quiet Sun',\n",
       " 'TOBJC2': 'Sun',\n",
       " 'TMTHD2': 'Observation - Direct',\n",
       " 'COLNUM3': ' ---------- Column 3 ----------',\n",
       " 'TFORM3': '1E',\n",
       " 'TTYPE3': 'Local Intensity   2',\n",
       " 'TUNIT3': 'Relint',\n",
       " 'TDMIN3': -1.34444,\n",
       " 'TDMAX3': 1.29397,\n",
       " 'TDESC3': 'Kitt Peak Visible Disk Center Atlas 1998 - Telluric Corrected',\n",
       " 'TLABL3': 'KP Vis w/out Atm',\n",
       " 'TTITL3': 'Kitt Peak 1998 without Atmosphere',\n",
       " 'TAIRM3': '0',\n",
       " 'TWATM3': False,\n",
       " 'TSAMP3': 'uniform',\n",
       " 'TTRGT3': 'Quiet Sun',\n",
       " 'TOBJC3': 'Sun',\n",
       " 'TMTHD3': 'Observation - Direct',\n",
       " 'COLNUM4': ' ---------- Column 4 ----------',\n",
       " 'TFORM4': '1E',\n",
       " 'TTYPE4': 'Telluric Spectrum   1',\n",
       " 'TUNIT4': 'Relint',\n",
       " 'TDMIN4': -1.29066,\n",
       " 'TDMAX4': 1.28846,\n",
       " 'TDESC4': 'Kitt Peak Visible Telluric Atlas 1998',\n",
       " 'TLABL4': 'KP Vis Telluric',\n",
       " 'TTITL4': 'Kitt Peak Telluric 1998',\n",
       " 'TAIRM4': '1',\n",
       " 'TWATM4': True,\n",
       " 'TSAMP4': 'uniform',\n",
       " 'TTRGT4': 'None',\n",
       " 'TOBJC4': 'Earth Atmosphere',\n",
       " 'TMTHD4': 'Observation - Derived'}"
      ]
     },
     "execution_count": 5,
     "metadata": {},
     "output_type": "execute_result"
    }
   ],
   "source": [
    "dictionary"
   ]
  },
  {
   "cell_type": "code",
   "execution_count": 6,
   "metadata": {},
   "outputs": [
    {
     "data": {
      "text/plain": [
       "['Wavelength Scale   1',\n",
       " 'Local Intensity   1',\n",
       " 'Local Intensity   2',\n",
       " 'Telluric Spectrum   1']"
      ]
     },
     "execution_count": 6,
     "metadata": {},
     "output_type": "execute_result"
    }
   ],
   "source": [
    "# output values of all keywords with a certain basename\n",
    "atlastools.search_key('TTYPE', dictionary)"
   ]
  },
  {
   "cell_type": "code",
   "execution_count": 7,
   "metadata": {},
   "outputs": [
    {
     "name": "stdout",
     "output_type": "stream",
     "text": [
      "-----COLUMN-----\n",
      "\n",
      "Component type: Wavelength Scale   1\n",
      "Column data units: Nanometers\n",
      "Axis Labels: Kitt Peak/1998 Wavelength Scale\n",
      "Target: Data Scale\n",
      "Derivation Method: Observation - Direct\n",
      "Includes Telluric Absorption: False\n",
      "\n",
      "-----COLUMN-----\n",
      "\n",
      "Component type: Local Intensity   1\n",
      "Column data units: Relint\n",
      "Axis Labels: Kitt Peak Visible Disk Center Atlas 1998\n",
      "Target: Sun\n",
      "Derivation Method: Observation - Direct\n",
      "Includes Telluric Absorption: True\n",
      "\n",
      "-----COLUMN-----\n",
      "\n",
      "Component type: Local Intensity   2\n",
      "Column data units: Relint\n",
      "Axis Labels: Kitt Peak Visible Disk Center Atlas 1998 - Telluric Corrected\n",
      "Target: Sun\n",
      "Derivation Method: Observation - Direct\n",
      "Includes Telluric Absorption: False\n",
      "\n",
      "-----COLUMN-----\n",
      "\n",
      "Component type: Telluric Spectrum   1\n",
      "Column data units: Relint\n",
      "Axis Labels: Kitt Peak Visible Telluric Atlas 1998\n",
      "Target: Earth Atmosphere\n",
      "Derivation Method: Observation - Derived\n",
      "Includes Telluric Absorption: True\n",
      "\n"
     ]
    }
   ],
   "source": [
    "# print more detailed information on the contents of each column in the binary table\n",
    "atlastools.column_information(dictionary)"
   ]
  },
  {
   "cell_type": "code",
   "execution_count": 8,
   "metadata": {},
   "outputs": [
    {
     "name": "stdout",
     "output_type": "stream",
     "text": [
      "Data type: Wavelength Scale   1 - Includes telluric absorption?: False\n",
      "\n",
      "Data type: Local Intensity   1 - Includes telluric absorption?: True\n",
      "\n",
      "Data type: Local Intensity   2 - Includes telluric absorption?: False\n",
      "\n",
      "Data type: Telluric Spectrum   1 - Includes telluric absorption?: True\n",
      "\n"
     ]
    }
   ],
   "source": [
    "# print which columns include telluric absorption\n",
    "atlastools.telluric_info(dictionary)"
   ]
  },
  {
   "cell_type": "code",
   "execution_count": null,
   "metadata": {},
   "outputs": [],
   "source": []
  },
  {
   "cell_type": "code",
   "execution_count": 18,
   "metadata": {},
   "outputs": [
    {
     "name": "stdout",
     "output_type": "stream",
     "text": [
      "\n",
      "### atlas metadata information keys ###\n",
      "dict_keys(['Local Intensity   1', 'Local Intensity   2', 'Telluric Spectrum   1'])\n",
      "\n",
      "### full atlas metadata information ###\n",
      "{'Local Intensity   1': <Spectrum1D(flux=<Quantity [0.06882751, 0.06899895, 0.06946772, ..., 0.98953325, 0.9893479 ,\n",
      "           0.98914695]>, spectral_axis=<SpectralCoord [357.00164795, 357.00184795, 357.00204795, ...,\n",
      "                740.69924795, 740.69944795, 740.69964795] nm, \n",
      "\tradial_velocity=0.0 km / s, \n",
      "\tredshift=0.0, \n",
      "\tdoppler_rest=0.0 Angstrom, \n",
      "\tdoppler_convention=None, \n",
      "\tobserver=None, \n",
      "\ttarget=None>)>, 'Local Intensity   2': <Spectrum1D(flux=<Quantity [0.0679792 , 0.06814852, 0.06861152, ..., 0.99054056, 0.99031216,\n",
      "           0.9900861 ]>, spectral_axis=<SpectralCoord [357.00164795, 357.00184795, 357.00204795, ...,\n",
      "                740.69924795, 740.69944795, 740.69964795] nm, \n",
      "\tradial_velocity=0.0 km / s, \n",
      "\tredshift=0.0, \n",
      "\tdoppler_rest=0.0 Angstrom, \n",
      "\tdoppler_convention=None, \n",
      "\tobserver=None, \n",
      "\ttarget=None>)>, 'Telluric Spectrum   1': <Spectrum1D(flux=<Quantity [0.99742305, 0.99742305, 0.99742305, ..., 0.99898386, 0.9990266 ,\n",
      "           0.99905115]>, spectral_axis=<SpectralCoord [357.00164795, 357.00184795, 357.00204795, ...,\n",
      "                740.69924795, 740.69944795, 740.69964795] nm, \n",
      "\tradial_velocity=0.0 km / s, \n",
      "\tredshift=0.0, \n",
      "\tdoppler_rest=0.0 Angstrom, \n",
      "\tdoppler_convention=None, \n",
      "\tobserver=None, \n",
      "\ttarget=None>)>}\n",
      "\n",
      "### full atlas spectral data ###\n",
      "{'Wavelength Scale   1': <Quantity [357.00164795, 357.00184795, 357.00204795, ..., 740.69924795,\n",
      "           740.69944795, 740.69964795] nm>, 'Local Intensity   1': <Quantity [0.06882751, 0.06899895, 0.06946772, ..., 0.98953325, 0.9893479 ,\n",
      "           0.98914695]>, 'Local Intensity   2': <Quantity [0.0679792 , 0.06814852, 0.06861152, ..., 0.99054056, 0.99031216,\n",
      "           0.9900861 ]>, 'Telluric Spectrum   1': <Quantity [0.99742305, 0.99742305, 0.99742305, ..., 0.99898386, 0.9990266 ,\n",
      "           0.99905115]>}\n"
     ]
    }
   ],
   "source": [
    "# load in contents of selected file\n",
    "(file_data, spec_data) = atlastools.store_data(file, exten)\n",
    "print(\"\\n### atlas metadata information keys ###\")\n",
    "print(spec_data.keys())\n",
    "print(\"\\n### full atlas metadata information ###\")\n",
    "print(spec_data)\n",
    "print(\"\\n### full atlas spectral data ###\")\n",
    "print(file_data)\n"
   ]
  },
  {
   "cell_type": "code",
   "execution_count": 10,
   "metadata": {},
   "outputs": [
    {
     "name": "stdout",
     "output_type": "stream",
     "text": [
      "['Kitt Peak Observatory']\n",
      "[(-1994164.26473224, 5037968.43602035, 3357618.61510581)] m\n",
      "1\n"
     ]
    }
   ],
   "source": [
    "# create atlas object using make_atlas, but don't populate it with full spectral data\n",
    "atlas = atlastools.make_atlas(file, exten)\n",
    "print(atlas.observatory.name)\n",
    "print(atlas.observatory.location)\n",
    "# only the metadata were loaded, not the full spectra\n",
    "print(atlas.sun)"
   ]
  },
  {
   "cell_type": "code",
   "execution_count": 16,
   "metadata": {},
   "outputs": [
    {
     "name": "stdout",
     "output_type": "stream",
     "text": [
      "OrderedDict([('title', ['KP Visible 1998 with Atmosphere'])])\n",
      "Spectrum1D (length=1918491)\n",
      "flux:             [ 0.068828, ..., 0.98915 ],  mean=0.86228\n",
      "spectral axis:    [ 357.0 nm, ..., 740.7 nm ],  mean=548.85 nm\n",
      "\n",
      "OrderedDict([('title', ['Kitt Peak Telluric 1998'])])\n",
      "Spectrum1D (length=1918491)\n",
      "flux:             [ 0.99742, ..., 0.99905 ],  mean=0.98447\n",
      "spectral axis:    [ 357.0 nm, ..., 740.7 nm ],  mean=548.85 nm\n"
     ]
    }
   ],
   "source": [
    "# create atlas object using make_atlas, but by\n",
    "# setting 'loaddata', the full spectra are included in the atlas object\n",
    "atlas = atlastools.make_atlas(file, exten, loaddata=1)\n",
    "print(atlas.sun.meta)\n",
    "print(atlas.sun)\n",
    "print()\n",
    "print(atlas.atm.meta)\n",
    "print(atlas.atm)"
   ]
  },
  {
   "cell_type": "code",
   "execution_count": 14,
   "metadata": {},
   "outputs": [
    {
     "data": {
      "image/png": "[encoded data removed]",
      "text/plain": [
       "<Figure size 792x576 with 1 Axes>"
      ]
     },
     "metadata": {
      "needs_background": "light"
     },
     "output_type": "display_data"
    }
   ],
   "source": [
    "atlastools.atlas_spectrum_plot('Local Intensity   1', spec_data['Local Intensity   1'], dictionary, \n",
    "            startwave=6553*u.AA, endwave=657.3*u.nm, plot_unit='angstrom')"
   ]
  },
  {
   "cell_type": "code",
   "execution_count": null,
   "metadata": {},
   "outputs": [],
   "source": []
  }
 ],
 "metadata": {
  "kernelspec": {
   "display_name": "Python 3",
   "language": "python",
   "name": "python3"
  },
  "language_info": {
   "codemirror_mode": {
    "name": "ipython",
    "version": 3
   },
   "file_extension": ".py",
   "mimetype": "text/x-python",
   "name": "python",
   "nbconvert_exporter": "python",
   "pygments_lexer": "ipython3",
   "version": "3.7.8"
  }
 },
 "nbformat": 4,
 "nbformat_minor": 4
}
