{
 "cells": [
  {
   "cell_type": "code",
   "execution_count": 28,
   "metadata": {},
   "outputs": [],
   "source": [
    "import numpy as np\n",
    "from astropy.io import fits\n",
    "import atlastools"
   ]
  },
  {
   "cell_type": "code",
   "execution_count": 29,
   "metadata": {
    "scrolled": false
   },
   "outputs": [],
   "source": [
    "atlas_files_base = '../'\n",
    "file  = atlas_files_base + 'kitt.peak.ir.1-5micron.atlas.wavelnth.bintab.fits'\n",
    "f     = fits.open(file)\n",
    "exten = 1"
   ]
  },
  {
   "cell_type": "code",
   "execution_count": 31,
   "metadata": {},
   "outputs": [
    {
     "name": "stdout",
     "output_type": "stream",
     "text": [
      "Input file name:  ../kitt.peak.ir.1-5micron.atlas.wavelnth.bintab.fits\n",
      "Input extension:  1\n",
      "General file information:\n",
      "\n",
      "Object: Sun\n",
      "Atlas source: Kitt Peak/FTS IR 1991\n",
      "Atlas acquisition site: Kitt Peak Observatory\n",
      "Atlas wavelength coverage: 11105.60 nm – 54097.66 nm\n",
      "\n",
      "EXTENSION 1:\n",
      "\n",
      "Column 0 - Wavelength Scale : value range = 1110.56 – 2500.56 Nanometers\n",
      "Column 1 - Local Intensity : value range = -0.04 – 1.33 Relint\n",
      "Column 2 - Local Intensity : value range = 0.30 – 1.12 Relint\n",
      "Column 3 - Telluric Spectrum : value range = -0.03 – 1.13 Relint\n",
      "Column 4 - Wavelength Scale : value range = 3999.10 – 9004.46 cm^-1\n",
      "\n",
      "\n",
      "\n",
      "EXTENSION 2:\n",
      "\n",
      "Column 0 - Wavelength Scale : value range = 2854.74 – 4168.98 Nanometers\n",
      "Column 1 - Local Intensity : value range = -0.01 – 1.63 Relint\n",
      "Column 2 - Local Intensity : value range = 0.67 – 1.04 Relint\n",
      "Column 3 - Telluric Spectrum : value range = -0.01 – 1.00 Relint\n",
      "Column 4 - Wavelength Scale : value range = 2398.67 – 3502.95 cm^-1\n",
      "\n",
      "\n",
      "\n",
      "EXTENSION 3:\n",
      "\n",
      "Column 0 - Wavelength Scale : value range = 4540.10 – 5409.75 Nanometers\n",
      "Column 1 - Local Intensity : value range = -0.05 – 1.58 Relint\n",
      "Column 2 - Local Intensity : value range = 0.53 – 1.15 Relint\n",
      "Column 3 - Telluric Spectrum : value range = -0.05 – 1.01 Relint\n",
      "Column 4 - Wavelength Scale : value range = 1848.51 – 2202.59 cm^-1\n",
      "\n",
      "\n",
      "\n"
     ]
    }
   ],
   "source": [
    "# present high level view of atlas file contents (extensions, binary table columns)\n",
    "print(\"Input file name: \", file)\n",
    "print(\"Input extension: \", exten)\n",
    "atlastools.filecontent_map(file)"
   ]
  },
  {
   "cell_type": "code",
   "execution_count": 3,
   "metadata": {},
   "outputs": [],
   "source": [
    "# extract all header keyword values from FITS file extension and store in a dictionary\n",
    "dictionary = atlastools.make_dictionary('../kitt.peak.ir.1-5micron.atlas.wavelnth.bintab.fits',exten)"
   ]
  },
  {
   "cell_type": "code",
   "execution_count": 4,
   "metadata": {
    "scrolled": true
   },
   "outputs": [
    {
     "data": {
      "text/plain": [
       "{'SIMPLE': True,\n",
       " 'BITPIX': 8,\n",
       " 'NAXIS': 2,\n",
       " 'EXTEND': True,\n",
       " 'OBJECT': 'Sun',\n",
       " 'CMPNT_01': 'Wavelength Scale',\n",
       " 'CMPNT_02': 'Solar Intensity with Telluric Absorption',\n",
       " 'CMPNT_03': 'Solar Intensity without Telluric Absorption',\n",
       " 'CMPNT_04': 'Derived Telluric Absorption',\n",
       " 'CMPNT_05': 'Wavenumber Scale',\n",
       " 'CTYPE1': 'AWAV',\n",
       " 'CUNIT1': 'nm',\n",
       " 'WAVEREF': 'air',\n",
       " 'WAVEMIN': 11105.6034291,\n",
       " 'WAVEMAX': 54097.6602788,\n",
       " 'WAVEUNIT': -9,\n",
       " 'ATL_SAMP': 'uniform',\n",
       " 'ATLRSLTN': '300000',\n",
       " 'ATL_SOUR': 'Kitt Peak/FTS IR 1991',\n",
       " 'ATL_MU': 1.0,\n",
       " 'ATL_RAD': 0.0,\n",
       " 'ATL_MISS': -1.0,\n",
       " 'ATL_OBS': 'Kitt Peak Observatory',\n",
       " 'ATL_LAT': 31.9583,\n",
       " 'ATL_LONG': 111.595,\n",
       " 'ATL_ALT': 2096.0,\n",
       " 'LONGSTRN': 'OGIP 1.0',\n",
       " 'ATL_ADS1': 'https://ui.adsabs.harvard.edu/abs/1991assp.book.....W',\n",
       " 'COMMENT':  This FITS file may contain long string keyword values that are\n",
       "  continued over multiple keywords.  This convention uses the  '&'\n",
       "  character at the end of a string which is then continued\n",
       "  on subsequent keywords whose name = 'CONTINUE'.,\n",
       " 'ATL_REF1': 'Livingston and Wallace, 1998, \"An Atlas of the Solar Spectrum in the Infrared from 1850 to 9000 cm-1 (1.1 to 5.4 microns)\", NSO Technical Report 91-001',\n",
       " 'XTENSION': 'BINTABLE',\n",
       " 'NAXIS1': 28,\n",
       " 'NAXIS2': 1112003,\n",
       " 'PCOUNT': 0,\n",
       " 'GCOUNT': 1,\n",
       " 'TFIELDS': 5,\n",
       " 'EXTNAME': 'Atlas_Table',\n",
       " 'EXTVER': 1,\n",
       " 'AUTHOR': 'Kevin Reardon/NSO',\n",
       " 'ATL_NAME': 'Kitt Peak/FTS/Livingston Infrared Atlas 1991',\n",
       " 'COLNUM1': ' ---------- Column 1 ----------',\n",
       " 'TFORM1': '1D',\n",
       " 'TTYPE1': 'Wavelength Scale   1',\n",
       " 'TUNIT1': 'Nanometers',\n",
       " 'TDMIN1': 1110.56034291,\n",
       " 'TDMAX1': 2500.56286362,\n",
       " 'TDESC1': 'Kitt Peak/1991/IR Wavelength Scale',\n",
       " 'TCUNI1': 'nm',\n",
       " 'TRPIX1': 31713,\n",
       " 'TDELT1': 0.00125000001856,\n",
       " 'TLABL1': 'KP-FTS-IR Wavescale',\n",
       " 'TTITL1': 'Kitt Peak Wavelength',\n",
       " 'TWATM1': False,\n",
       " 'TSAMP1': 'uniform',\n",
       " 'TTRGT1': 'None',\n",
       " 'TWSCL1': 'wavelength',\n",
       " 'TOBJC1': 'Data Scale',\n",
       " 'TMTHD1': 'Observation - Direct',\n",
       " 'COLNUM2': ' ---------- Column 2 ----------',\n",
       " 'TFORM2': '1E',\n",
       " 'TTYPE2': 'Local Intensity   1',\n",
       " 'TUNIT2': 'Relint',\n",
       " 'TDMIN2': -0.0386193,\n",
       " 'TDMAX2': 1.33129,\n",
       " 'TDESC2': 'Kitt Peak IR Disk Center Atlas 1991',\n",
       " 'TRAD2': 0.0,\n",
       " 'TMU2': 1.0,\n",
       " 'TLABL2': 'KP IR w/ Atm',\n",
       " 'TTITL2': 'KP IR 1991 with Atmosphere',\n",
       " 'TAIRM2': '1',\n",
       " 'TWATM2': True,\n",
       " 'TTRGT2': 'Quiet Sun',\n",
       " 'TOBJC2': 'Sun',\n",
       " 'TMTHD2': 'Observation - Direct',\n",
       " 'COLNUM3': ' ---------- Column 3 ----------',\n",
       " 'TFORM3': '1E',\n",
       " 'TTYPE3': 'Local Intensity   2',\n",
       " 'TUNIT3': 'Relint',\n",
       " 'TDMIN3': 0.304189,\n",
       " 'TDMAX3': 1.11903,\n",
       " 'TDESC3': 'Kitt Peak IR Disk Center Atlas 1991 - Telluric Corrected',\n",
       " 'TRAD3': 0.0,\n",
       " 'TMU3': 1.0,\n",
       " 'TLABL3': 'KP IR w/out Atm',\n",
       " 'TTITL3': 'KP IR 1991 without Atmosphere',\n",
       " 'TAIRM3': '0',\n",
       " 'TWATM3': False,\n",
       " 'TTRGT3': 'Quiet Sun',\n",
       " 'TOBJC3': 'Sun',\n",
       " 'TMTHD3': 'Observation - Direct',\n",
       " 'COLNUM4': ' ---------- Column 4 ----------',\n",
       " 'TFORM4': '1E',\n",
       " 'TTYPE4': 'Telluric Spectrum   1',\n",
       " 'TUNIT4': 'Relint',\n",
       " 'TDMIN4': -0.0302138,\n",
       " 'TDMAX4': 1.12911,\n",
       " 'TDESC4': 'Kitt Peak IR Atlas 1991 - Telluric Component',\n",
       " 'TLABL4': 'KP IR Telluric',\n",
       " 'TTITL4': 'Kitt Peak Telluric 1991',\n",
       " 'TAIRM4': '1',\n",
       " 'TWATM4': True,\n",
       " 'TTRGT4': 'None',\n",
       " 'TOBJC4': 'Earth Atmosphere',\n",
       " 'TMTHD4': 'Observation - Derived',\n",
       " 'COLNUM5': ' ---------- Column 5 ----------',\n",
       " 'TFORM5': '1D',\n",
       " 'TTYPE5': 'Wavelength Scale   2',\n",
       " 'TUNIT5': 'cm^-1',\n",
       " 'TDMIN5': 3999.09962092,\n",
       " 'TDMAX5': 9004.46343491,\n",
       " 'TDESC5': 'Kitt Peak/1991/IR Wavenumber Scale',\n",
       " 'TLABL5': 'KP-FTS-IR Wavenumber',\n",
       " 'TTITL5': 'Kitt Peak Wavenumber',\n",
       " 'TWATM5': False,\n",
       " 'TSAMP5': 'non-uniform',\n",
       " 'TTRGT5': 'None',\n",
       " 'TWSCL5': 'wavenumber',\n",
       " 'TOBJC5': 'Data Scale',\n",
       " 'TMTHD5': 'Observation - Direct',\n",
       " 'TCUNI5': 'cm^-1',\n",
       " 'TRPIX5': 31713,\n",
       " 'TDELT5': -0.00944848307881}"
      ]
     },
     "execution_count": 4,
     "metadata": {},
     "output_type": "execute_result"
    }
   ],
   "source": [
    "dictionary"
   ]
  },
  {
   "cell_type": "code",
   "execution_count": 5,
   "metadata": {},
   "outputs": [
    {
     "data": {
      "text/plain": [
       "['Wavelength Scale   1',\n",
       " 'Local Intensity   1',\n",
       " 'Local Intensity   2',\n",
       " 'Telluric Spectrum   1',\n",
       " 'Wavelength Scale   2']"
      ]
     },
     "execution_count": 5,
     "metadata": {},
     "output_type": "execute_result"
    }
   ],
   "source": [
    "# output values of all keywords with a certain basename\n",
    "atlastools.search_key('TTYPE', dictionary)"
   ]
  },
  {
   "cell_type": "code",
   "execution_count": 6,
   "metadata": {},
   "outputs": [
    {
     "name": "stdout",
     "output_type": "stream",
     "text": [
      "-----COLUMN-----\n",
      "\n",
      "Component type: Wavelength Scale   1\n",
      "Column data units: Nanometers\n",
      "Axis Labels: Kitt Peak/1991/IR Wavelength Scale\n",
      "Target: Data Scale\n",
      "Derivation Method: Observation - Direct\n",
      "Includes Telluric Absorption: False\n",
      "\n",
      "-----COLUMN-----\n",
      "\n",
      "Component type: Local Intensity   1\n",
      "Column data units: Relint\n",
      "Axis Labels: Kitt Peak IR Disk Center Atlas 1991\n",
      "Target: Sun\n",
      "Derivation Method: Observation - Direct\n",
      "Includes Telluric Absorption: True\n",
      "\n",
      "-----COLUMN-----\n",
      "\n",
      "Component type: Local Intensity   2\n",
      "Column data units: Relint\n",
      "Axis Labels: Kitt Peak IR Disk Center Atlas 1991 - Telluric Corrected\n",
      "Target: Sun\n",
      "Derivation Method: Observation - Direct\n",
      "Includes Telluric Absorption: False\n",
      "\n",
      "-----COLUMN-----\n",
      "\n",
      "Component type: Telluric Spectrum   1\n",
      "Column data units: Relint\n",
      "Axis Labels: Kitt Peak IR Atlas 1991 - Telluric Component\n",
      "Target: Earth Atmosphere\n",
      "Derivation Method: Observation - Derived\n",
      "Includes Telluric Absorption: True\n",
      "\n",
      "-----COLUMN-----\n",
      "\n",
      "Component type: Wavelength Scale   2\n",
      "Column data units: cm^-1\n",
      "Axis Labels: Kitt Peak/1991/IR Wavenumber Scale\n",
      "Target: Data Scale\n",
      "Derivation Method: Observation - Direct\n",
      "Includes Telluric Absorption: False\n",
      "\n"
     ]
    }
   ],
   "source": [
    "# print more detailed information on the contents of each column in the binary table\n",
    "atlastools.column_information(dictionary)"
   ]
  },
  {
   "cell_type": "code",
   "execution_count": 7,
   "metadata": {},
   "outputs": [
    {
     "name": "stdout",
     "output_type": "stream",
     "text": [
      "Data type: Wavelength Scale   1 - Includes telluric absorption?: False\n",
      "\n",
      "Data type: Local Intensity   1 - Includes telluric absorption?: True\n",
      "\n",
      "Data type: Local Intensity   2 - Includes telluric absorption?: False\n",
      "\n",
      "Data type: Telluric Spectrum   1 - Includes telluric absorption?: True\n",
      "\n",
      "Data type: Wavelength Scale   2 - Includes telluric absorption?: False\n",
      "\n"
     ]
    }
   ],
   "source": [
    "# print which columns include telluric absorption\n",
    "atlastools.telluric_info(dictionary)"
   ]
  },
  {
   "cell_type": "code",
   "execution_count": 8,
   "metadata": {},
   "outputs": [
    {
     "name": "stdout",
     "output_type": "stream",
     "text": [
      "General file information:\n",
      "\n",
      "Object: Sun\n",
      "Atlas source: Kitt Peak/FTS IR 1991\n",
      "Atlas acquisition site: Kitt Peak Observatory\n",
      "Atlas wavelength coverage: 11105.60 nm – 54097.66 nm\n",
      "\n",
      "EXTENSION 1:\n",
      "\n",
      "Column 0 - Wavelength Scale : value range = 1110.56 – 2500.56 Nanometers\n",
      "Column 1 - Local Intensity : value range = -0.04 – 1.33 Relint\n",
      "Column 2 - Local Intensity : value range = 0.30 – 1.12 Relint\n",
      "Column 3 - Telluric Spectrum : value range = -0.03 – 1.13 Relint\n",
      "Column 4 - Wavelength Scale : value range = 3999.10 – 9004.46 cm^-1\n",
      "\n",
      "\n",
      "\n",
      "EXTENSION 2:\n",
      "\n",
      "Column 0 - Wavelength Scale : value range = 2854.74 – 4168.98 Nanometers\n",
      "Column 1 - Local Intensity : value range = -0.01 – 1.63 Relint\n",
      "Column 2 - Local Intensity : value range = 0.67 – 1.04 Relint\n",
      "Column 3 - Telluric Spectrum : value range = -0.01 – 1.00 Relint\n",
      "Column 4 - Wavelength Scale : value range = 2398.67 – 3502.95 cm^-1\n",
      "\n",
      "\n",
      "\n",
      "EXTENSION 3:\n",
      "\n",
      "Column 0 - Wavelength Scale : value range = 4540.10 – 5409.75 Nanometers\n",
      "Column 1 - Local Intensity : value range = -0.05 – 1.58 Relint\n",
      "Column 2 - Local Intensity : value range = 0.53 – 1.15 Relint\n",
      "Column 3 - Telluric Spectrum : value range = -0.05 – 1.01 Relint\n",
      "Column 4 - Wavelength Scale : value range = 1848.51 – 2202.59 cm^-1\n",
      "\n",
      "\n",
      "\n"
     ]
    }
   ],
   "source": []
  },
  {
   "cell_type": "code",
   "execution_count": 25,
   "metadata": {},
   "outputs": [
    {
     "name": "stdout",
     "output_type": "stream",
     "text": [
      "### atlas metadata information keys ###\n",
      "dict_keys(['Local Intensity   1', 'Local Intensity   2', 'Telluric Spectrum   1'])\n",
      "### full atlas metadata information ###\n",
      "{'Local Intensity   1': <Spectrum1D(flux=<Quantity [0.9842337, 0.9720137, 0.9377431, ..., 0.9101045, 0.9117612,\n",
      "           0.9132953]>, spectral_axis=<SpectralCoord [1110.56034291, 1110.56159291, 1110.56284291, ...,\n",
      "                2500.56036362, 2500.56161362, 2500.56286362] nm, \n",
      "\tradial_velocity=0.0 km / s, \n",
      "\tredshift=0.0, \n",
      "\tdoppler_rest=0.0 Angstrom, \n",
      "\tdoppler_convention=None, \n",
      "\tobserver=None, \n",
      "\ttarget=None>)>, 'Local Intensity   2': <Spectrum1D(flux=<Quantity [0.94352037, 0.97824246, 0.9814052 , ..., 1.0047531 , 1.0046397 ,\n",
      "           1.0044172 ]>, spectral_axis=<SpectralCoord [1110.56034291, 1110.56159291, 1110.56284291, ...,\n",
      "                2500.56036362, 2500.56161362, 2500.56286362] nm, \n",
      "\tradial_velocity=0.0 km / s, \n",
      "\tredshift=0.0, \n",
      "\tdoppler_rest=0.0 Angstrom, \n",
      "\tdoppler_convention=None, \n",
      "\tobserver=None, \n",
      "\ttarget=None>)>, 'Telluric Spectrum   1': <Spectrum1D(flux=<Quantity [0.88844055, 0.86950487, 0.85801023, ..., 0.947407  , 0.94898474,\n",
      "           0.9505005 ]>, spectral_axis=<SpectralCoord [1110.56034291, 1110.56159291, 1110.56284291, ...,\n",
      "                2500.56036362, 2500.56161362, 2500.56286362] nm, \n",
      "\tradial_velocity=0.0 km / s, \n",
      "\tredshift=0.0, \n",
      "\tdoppler_rest=0.0 Angstrom, \n",
      "\tdoppler_convention=None, \n",
      "\tobserver=None, \n",
      "\ttarget=None>)>}\n",
      "### full atlas spectral data ###\n",
      "{'Wavelength Scale   1': <Quantity [1110.56034291, 1110.56159291, 1110.56284291, ..., 2500.56036362,\n",
      "           2500.56161362, 2500.56286362] nm>, 'Local Intensity   1': <Quantity [0.9842337, 0.9720137, 0.9377431, ..., 0.9101045, 0.9117612,\n",
      "           0.9132953]>, 'Local Intensity   2': <Quantity [0.94352037, 0.97824246, 0.9814052 , ..., 1.0047531 , 1.0046397 ,\n",
      "           1.0044172 ]>, 'Telluric Spectrum   1': <Quantity [0.88844055, 0.86950487, 0.85801023, ..., 0.947407  , 0.94898474,\n",
      "           0.9505005 ]>, 'Wavelength Scale   2': <Quantity [9004.46343491, 9004.45329988, 9004.44316487, ..., 3999.10361912,\n",
      "           3999.10162002, 3999.09962092] k>}\n"
     ]
    }
   ],
   "source": [
    "# load in contents of selected file\n",
    "(file_data, spec_data) = atlastools.store_data(file, exten)\n",
    "print(\"### atlas metadata information keys ###\")\n",
    "print(spec_data.keys())\n",
    "print(\"### full atlas metadata information ###\")\n",
    "print(spec_data)\n",
    "print(\"### full atlas spectral data ###\")\n",
    "print(file_data)\n"
   ]
  },
  {
   "cell_type": "code",
   "execution_count": 19,
   "metadata": {},
   "outputs": [
    {
     "name": "stdout",
     "output_type": "stream",
     "text": [
      "['Kitt Peak Observatory']\n",
      "[(-1994164.26473224, 5037968.43602035, 3357618.61510581)] m\n",
      "1\n"
     ]
    }
   ],
   "source": [
    "# create atlas object using make_atlas, but don't populate it with full spectral data\n",
    "atlas = atlastools.make_atlas(file, exten)\n",
    "print(atlas.observatory.name)\n",
    "print(atlas.observatory.location)\n",
    "# only the metadata were loaded, not the full spectra\n",
    "print(atlas.sun)"
   ]
  },
  {
   "cell_type": "code",
   "execution_count": 18,
   "metadata": {},
   "outputs": [
    {
     "name": "stdout",
     "output_type": "stream",
     "text": [
      "OrderedDict([('title', ['KP IR 1991 with Atmosphere'])])\n",
      "Spectrum1D (length=1112003)\n",
      "flux:             [ 0.98423, ..., 0.9133 ],  mean=0.87216\n",
      "spectral axis:    [ 1110.6 nm, ..., 2500.6 nm ],  mean=1805.6 nm\n",
      "\n",
      "OrderedDict([('title', ['Kitt Peak Telluric 1991'])])\n",
      "Spectrum1D (length=1112003)\n",
      "flux:             [ 0.88844, ..., 0.9505 ],  mean=0.76431\n",
      "spectral axis:    [ 1110.6 nm, ..., 2500.6 nm ],  mean=1805.6 nm\n"
     ]
    }
   ],
   "source": [
    "# create atlas object using make_atlas, but by\n",
    "# setting 'loaddata', the full spectra are included in the atlas object\n",
    "atlas = atlastools.make_atlas(file, exten, loaddata=1)\n",
    "print(atlas.sun.meta)\n",
    "print(atlas.sun)\n",
    "print()\n",
    "print(atlas.atm.meta)\n",
    "print(atlas.atm)"
   ]
  },
  {
   "cell_type": "code",
   "execution_count": null,
   "metadata": {},
   "outputs": [],
   "source": []
  },
  {
   "cell_type": "code",
   "execution_count": null,
   "metadata": {},
   "outputs": [],
   "source": []
  }
 ],
 "metadata": {
  "kernelspec": {
   "display_name": "Python 3",
   "language": "python",
   "name": "python3"
  },
  "language_info": {
   "codemirror_mode": {
    "name": "ipython",
    "version": 3
   },
   "file_extension": ".py",
   "mimetype": "text/x-python",
   "name": "python",
   "nbconvert_exporter": "python",
   "pygments_lexer": "ipython3",
   "version": "3.7.8"
  }
 },
 "nbformat": 4,
 "nbformat_minor": 4
}
